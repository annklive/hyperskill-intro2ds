{
 "cells": [
  {
   "cell_type": "code",
   "execution_count": 63,
   "id": "initial_id",
   "metadata": {
    "collapsed": true,
    "ExecuteTime": {
     "end_time": "2023-09-15T04:35:40.049788Z",
     "start_time": "2023-09-15T04:35:40.011538Z"
    }
   },
   "outputs": [],
   "source": [
    "import pandas as pd"
   ]
  },
  {
   "cell_type": "code",
   "execution_count": 64,
   "outputs": [],
   "source": [
    "pd.set_option('display.max_columns', 8)"
   ],
   "metadata": {
    "collapsed": false,
    "ExecuteTime": {
     "end_time": "2023-09-15T04:35:40.049945Z",
     "start_time": "2023-09-15T04:35:40.015854Z"
    }
   },
   "id": "d9a4fe769a3bc184"
  },
  {
   "cell_type": "markdown",
   "source": [
    "# Stage 1: Read data"
   ],
   "metadata": {
    "collapsed": false
   },
   "id": "88a75a810716a581"
  },
  {
   "cell_type": "code",
   "execution_count": 65,
   "outputs": [],
   "source": [
    "general = pd.read_csv('test/general.csv')\n",
    "prenatal = pd.read_csv('test/prenatal.csv')\n",
    "sports = pd.read_csv('test/sports.csv')"
   ],
   "metadata": {
    "collapsed": false,
    "ExecuteTime": {
     "end_time": "2023-09-15T04:35:40.068988Z",
     "start_time": "2023-09-15T04:35:40.017300Z"
    }
   },
   "id": "a8ed81f6e4f55b78"
  },
  {
   "cell_type": "code",
   "execution_count": 66,
   "outputs": [
    {
     "data": {
      "text/plain": "    Unnamed: 0 hospital gender  age  ...  mri  xray  children months\n0            0  general    man   33  ...  NaN   NaN       NaN    NaN\n1            1  general    man   48  ...  NaN   NaN       NaN    NaN\n2            2  general  woman   23  ...  NaN   NaN       NaN    NaN\n3            3  general    man   27  ...  NaN   NaN       NaN    NaN\n4            4  general  woman   22  ...  NaN     f       NaN    NaN\n5            5  general    man   46  ...  NaN   NaN       NaN    NaN\n6            6  general  woman   68  ...  NaN   NaN       NaN    NaN\n7            7  general    man   35  ...  NaN   NaN       NaN    NaN\n8            8  general  woman   50  ...  NaN     f       NaN    NaN\n9            9  general    man   25  ...  NaN   NaN       NaN    NaN\n10          10  general    man   27  ...  NaN   NaN       NaN    NaN\n11          11  general    man   57  ...  NaN   NaN       NaN    NaN\n12          12  general    man   29  ...  NaN     f       NaN    NaN\n13          13  general  woman   18  ...  NaN   NaN       NaN    NaN\n14          14  general  woman   47  ...  NaN   NaN       NaN    NaN\n15          15  general  woman   51  ...  NaN   NaN       NaN    NaN\n16          16  general  woman   56  ...  NaN     t       NaN    NaN\n17          17  general  woman   38  ...  NaN   NaN       NaN    NaN\n18          18  general  woman   32  ...  NaN   NaN       NaN    NaN\n19          19  general  woman   69  ...  NaN     f       NaN    NaN\n\n[20 rows x 15 columns]",
      "text/html": "<div>\n<style scoped>\n    .dataframe tbody tr th:only-of-type {\n        vertical-align: middle;\n    }\n\n    .dataframe tbody tr th {\n        vertical-align: top;\n    }\n\n    .dataframe thead th {\n        text-align: right;\n    }\n</style>\n<table border=\"1\" class=\"dataframe\">\n  <thead>\n    <tr style=\"text-align: right;\">\n      <th></th>\n      <th>Unnamed: 0</th>\n      <th>hospital</th>\n      <th>gender</th>\n      <th>age</th>\n      <th>...</th>\n      <th>mri</th>\n      <th>xray</th>\n      <th>children</th>\n      <th>months</th>\n    </tr>\n  </thead>\n  <tbody>\n    <tr>\n      <th>0</th>\n      <td>0</td>\n      <td>general</td>\n      <td>man</td>\n      <td>33</td>\n      <td>...</td>\n      <td>NaN</td>\n      <td>NaN</td>\n      <td>NaN</td>\n      <td>NaN</td>\n    </tr>\n    <tr>\n      <th>1</th>\n      <td>1</td>\n      <td>general</td>\n      <td>man</td>\n      <td>48</td>\n      <td>...</td>\n      <td>NaN</td>\n      <td>NaN</td>\n      <td>NaN</td>\n      <td>NaN</td>\n    </tr>\n    <tr>\n      <th>2</th>\n      <td>2</td>\n      <td>general</td>\n      <td>woman</td>\n      <td>23</td>\n      <td>...</td>\n      <td>NaN</td>\n      <td>NaN</td>\n      <td>NaN</td>\n      <td>NaN</td>\n    </tr>\n    <tr>\n      <th>3</th>\n      <td>3</td>\n      <td>general</td>\n      <td>man</td>\n      <td>27</td>\n      <td>...</td>\n      <td>NaN</td>\n      <td>NaN</td>\n      <td>NaN</td>\n      <td>NaN</td>\n    </tr>\n    <tr>\n      <th>4</th>\n      <td>4</td>\n      <td>general</td>\n      <td>woman</td>\n      <td>22</td>\n      <td>...</td>\n      <td>NaN</td>\n      <td>f</td>\n      <td>NaN</td>\n      <td>NaN</td>\n    </tr>\n    <tr>\n      <th>5</th>\n      <td>5</td>\n      <td>general</td>\n      <td>man</td>\n      <td>46</td>\n      <td>...</td>\n      <td>NaN</td>\n      <td>NaN</td>\n      <td>NaN</td>\n      <td>NaN</td>\n    </tr>\n    <tr>\n      <th>6</th>\n      <td>6</td>\n      <td>general</td>\n      <td>woman</td>\n      <td>68</td>\n      <td>...</td>\n      <td>NaN</td>\n      <td>NaN</td>\n      <td>NaN</td>\n      <td>NaN</td>\n    </tr>\n    <tr>\n      <th>7</th>\n      <td>7</td>\n      <td>general</td>\n      <td>man</td>\n      <td>35</td>\n      <td>...</td>\n      <td>NaN</td>\n      <td>NaN</td>\n      <td>NaN</td>\n      <td>NaN</td>\n    </tr>\n    <tr>\n      <th>8</th>\n      <td>8</td>\n      <td>general</td>\n      <td>woman</td>\n      <td>50</td>\n      <td>...</td>\n      <td>NaN</td>\n      <td>f</td>\n      <td>NaN</td>\n      <td>NaN</td>\n    </tr>\n    <tr>\n      <th>9</th>\n      <td>9</td>\n      <td>general</td>\n      <td>man</td>\n      <td>25</td>\n      <td>...</td>\n      <td>NaN</td>\n      <td>NaN</td>\n      <td>NaN</td>\n      <td>NaN</td>\n    </tr>\n    <tr>\n      <th>10</th>\n      <td>10</td>\n      <td>general</td>\n      <td>man</td>\n      <td>27</td>\n      <td>...</td>\n      <td>NaN</td>\n      <td>NaN</td>\n      <td>NaN</td>\n      <td>NaN</td>\n    </tr>\n    <tr>\n      <th>11</th>\n      <td>11</td>\n      <td>general</td>\n      <td>man</td>\n      <td>57</td>\n      <td>...</td>\n      <td>NaN</td>\n      <td>NaN</td>\n      <td>NaN</td>\n      <td>NaN</td>\n    </tr>\n    <tr>\n      <th>12</th>\n      <td>12</td>\n      <td>general</td>\n      <td>man</td>\n      <td>29</td>\n      <td>...</td>\n      <td>NaN</td>\n      <td>f</td>\n      <td>NaN</td>\n      <td>NaN</td>\n    </tr>\n    <tr>\n      <th>13</th>\n      <td>13</td>\n      <td>general</td>\n      <td>woman</td>\n      <td>18</td>\n      <td>...</td>\n      <td>NaN</td>\n      <td>NaN</td>\n      <td>NaN</td>\n      <td>NaN</td>\n    </tr>\n    <tr>\n      <th>14</th>\n      <td>14</td>\n      <td>general</td>\n      <td>woman</td>\n      <td>47</td>\n      <td>...</td>\n      <td>NaN</td>\n      <td>NaN</td>\n      <td>NaN</td>\n      <td>NaN</td>\n    </tr>\n    <tr>\n      <th>15</th>\n      <td>15</td>\n      <td>general</td>\n      <td>woman</td>\n      <td>51</td>\n      <td>...</td>\n      <td>NaN</td>\n      <td>NaN</td>\n      <td>NaN</td>\n      <td>NaN</td>\n    </tr>\n    <tr>\n      <th>16</th>\n      <td>16</td>\n      <td>general</td>\n      <td>woman</td>\n      <td>56</td>\n      <td>...</td>\n      <td>NaN</td>\n      <td>t</td>\n      <td>NaN</td>\n      <td>NaN</td>\n    </tr>\n    <tr>\n      <th>17</th>\n      <td>17</td>\n      <td>general</td>\n      <td>woman</td>\n      <td>38</td>\n      <td>...</td>\n      <td>NaN</td>\n      <td>NaN</td>\n      <td>NaN</td>\n      <td>NaN</td>\n    </tr>\n    <tr>\n      <th>18</th>\n      <td>18</td>\n      <td>general</td>\n      <td>woman</td>\n      <td>32</td>\n      <td>...</td>\n      <td>NaN</td>\n      <td>NaN</td>\n      <td>NaN</td>\n      <td>NaN</td>\n    </tr>\n    <tr>\n      <th>19</th>\n      <td>19</td>\n      <td>general</td>\n      <td>woman</td>\n      <td>69</td>\n      <td>...</td>\n      <td>NaN</td>\n      <td>f</td>\n      <td>NaN</td>\n      <td>NaN</td>\n    </tr>\n  </tbody>\n</table>\n<p>20 rows × 15 columns</p>\n</div>"
     },
     "execution_count": 66,
     "metadata": {},
     "output_type": "execute_result"
    }
   ],
   "source": [
    "general.head(20)"
   ],
   "metadata": {
    "collapsed": false,
    "ExecuteTime": {
     "end_time": "2023-09-15T04:35:40.069556Z",
     "start_time": "2023-09-15T04:35:40.029826Z"
    }
   },
   "id": "73e349f49a4258d0"
  },
  {
   "cell_type": "code",
   "execution_count": 67,
   "outputs": [
    {
     "data": {
      "text/plain": "    Unnamed: 0  HOSPITAL  Sex   age  ...  mri  xray  children months\n0            0  prenatal  NaN  27.0  ...  NaN     f       0.0    3.0\n1            1  prenatal  NaN  18.0  ...  NaN     f       1.0    5.0\n2            2  prenatal  NaN  34.0  ...  NaN     f       1.0    5.0\n3            3  prenatal  NaN  29.0  ...  NaN     f       2.0    3.0\n4            4  prenatal  NaN  33.0  ...  NaN     f       1.0    7.0\n5            5  prenatal  NaN  31.0  ...  NaN     f       0.0    3.0\n6            6  prenatal  NaN  30.0  ...  NaN     f       0.0    5.0\n7            7  prenatal  NaN  19.0  ...  NaN     f       1.0    6.0\n8            8  prenatal  NaN  44.0  ...  NaN     f       2.0    6.0\n9            9  prenatal  NaN  35.0  ...  NaN     f       0.0    6.0\n10          10  prenatal  NaN  41.0  ...  NaN     f       2.0    7.0\n11          11  prenatal  NaN  26.0  ...  NaN     f       0.0    7.0\n12          12  prenatal  NaN  25.0  ...  NaN     f       1.0    5.0\n13          13  prenatal  NaN  41.0  ...  NaN     f       2.0    8.0\n14          14  prenatal  NaN  27.0  ...  NaN     f       0.0    6.0\n15          15  prenatal  NaN  26.0  ...  NaN     f       2.0    2.0\n16          16  prenatal  NaN  16.0  ...  NaN     f       1.0    4.0\n17          17  prenatal  NaN  33.0  ...  NaN     f       1.0    9.0\n18          18  prenatal  NaN  35.0  ...  NaN     f       1.0    8.0\n19          19  prenatal  NaN  30.0  ...  NaN     f       2.0    9.0\n\n[20 rows x 15 columns]",
      "text/html": "<div>\n<style scoped>\n    .dataframe tbody tr th:only-of-type {\n        vertical-align: middle;\n    }\n\n    .dataframe tbody tr th {\n        vertical-align: top;\n    }\n\n    .dataframe thead th {\n        text-align: right;\n    }\n</style>\n<table border=\"1\" class=\"dataframe\">\n  <thead>\n    <tr style=\"text-align: right;\">\n      <th></th>\n      <th>Unnamed: 0</th>\n      <th>HOSPITAL</th>\n      <th>Sex</th>\n      <th>age</th>\n      <th>...</th>\n      <th>mri</th>\n      <th>xray</th>\n      <th>children</th>\n      <th>months</th>\n    </tr>\n  </thead>\n  <tbody>\n    <tr>\n      <th>0</th>\n      <td>0</td>\n      <td>prenatal</td>\n      <td>NaN</td>\n      <td>27.0</td>\n      <td>...</td>\n      <td>NaN</td>\n      <td>f</td>\n      <td>0.0</td>\n      <td>3.0</td>\n    </tr>\n    <tr>\n      <th>1</th>\n      <td>1</td>\n      <td>prenatal</td>\n      <td>NaN</td>\n      <td>18.0</td>\n      <td>...</td>\n      <td>NaN</td>\n      <td>f</td>\n      <td>1.0</td>\n      <td>5.0</td>\n    </tr>\n    <tr>\n      <th>2</th>\n      <td>2</td>\n      <td>prenatal</td>\n      <td>NaN</td>\n      <td>34.0</td>\n      <td>...</td>\n      <td>NaN</td>\n      <td>f</td>\n      <td>1.0</td>\n      <td>5.0</td>\n    </tr>\n    <tr>\n      <th>3</th>\n      <td>3</td>\n      <td>prenatal</td>\n      <td>NaN</td>\n      <td>29.0</td>\n      <td>...</td>\n      <td>NaN</td>\n      <td>f</td>\n      <td>2.0</td>\n      <td>3.0</td>\n    </tr>\n    <tr>\n      <th>4</th>\n      <td>4</td>\n      <td>prenatal</td>\n      <td>NaN</td>\n      <td>33.0</td>\n      <td>...</td>\n      <td>NaN</td>\n      <td>f</td>\n      <td>1.0</td>\n      <td>7.0</td>\n    </tr>\n    <tr>\n      <th>5</th>\n      <td>5</td>\n      <td>prenatal</td>\n      <td>NaN</td>\n      <td>31.0</td>\n      <td>...</td>\n      <td>NaN</td>\n      <td>f</td>\n      <td>0.0</td>\n      <td>3.0</td>\n    </tr>\n    <tr>\n      <th>6</th>\n      <td>6</td>\n      <td>prenatal</td>\n      <td>NaN</td>\n      <td>30.0</td>\n      <td>...</td>\n      <td>NaN</td>\n      <td>f</td>\n      <td>0.0</td>\n      <td>5.0</td>\n    </tr>\n    <tr>\n      <th>7</th>\n      <td>7</td>\n      <td>prenatal</td>\n      <td>NaN</td>\n      <td>19.0</td>\n      <td>...</td>\n      <td>NaN</td>\n      <td>f</td>\n      <td>1.0</td>\n      <td>6.0</td>\n    </tr>\n    <tr>\n      <th>8</th>\n      <td>8</td>\n      <td>prenatal</td>\n      <td>NaN</td>\n      <td>44.0</td>\n      <td>...</td>\n      <td>NaN</td>\n      <td>f</td>\n      <td>2.0</td>\n      <td>6.0</td>\n    </tr>\n    <tr>\n      <th>9</th>\n      <td>9</td>\n      <td>prenatal</td>\n      <td>NaN</td>\n      <td>35.0</td>\n      <td>...</td>\n      <td>NaN</td>\n      <td>f</td>\n      <td>0.0</td>\n      <td>6.0</td>\n    </tr>\n    <tr>\n      <th>10</th>\n      <td>10</td>\n      <td>prenatal</td>\n      <td>NaN</td>\n      <td>41.0</td>\n      <td>...</td>\n      <td>NaN</td>\n      <td>f</td>\n      <td>2.0</td>\n      <td>7.0</td>\n    </tr>\n    <tr>\n      <th>11</th>\n      <td>11</td>\n      <td>prenatal</td>\n      <td>NaN</td>\n      <td>26.0</td>\n      <td>...</td>\n      <td>NaN</td>\n      <td>f</td>\n      <td>0.0</td>\n      <td>7.0</td>\n    </tr>\n    <tr>\n      <th>12</th>\n      <td>12</td>\n      <td>prenatal</td>\n      <td>NaN</td>\n      <td>25.0</td>\n      <td>...</td>\n      <td>NaN</td>\n      <td>f</td>\n      <td>1.0</td>\n      <td>5.0</td>\n    </tr>\n    <tr>\n      <th>13</th>\n      <td>13</td>\n      <td>prenatal</td>\n      <td>NaN</td>\n      <td>41.0</td>\n      <td>...</td>\n      <td>NaN</td>\n      <td>f</td>\n      <td>2.0</td>\n      <td>8.0</td>\n    </tr>\n    <tr>\n      <th>14</th>\n      <td>14</td>\n      <td>prenatal</td>\n      <td>NaN</td>\n      <td>27.0</td>\n      <td>...</td>\n      <td>NaN</td>\n      <td>f</td>\n      <td>0.0</td>\n      <td>6.0</td>\n    </tr>\n    <tr>\n      <th>15</th>\n      <td>15</td>\n      <td>prenatal</td>\n      <td>NaN</td>\n      <td>26.0</td>\n      <td>...</td>\n      <td>NaN</td>\n      <td>f</td>\n      <td>2.0</td>\n      <td>2.0</td>\n    </tr>\n    <tr>\n      <th>16</th>\n      <td>16</td>\n      <td>prenatal</td>\n      <td>NaN</td>\n      <td>16.0</td>\n      <td>...</td>\n      <td>NaN</td>\n      <td>f</td>\n      <td>1.0</td>\n      <td>4.0</td>\n    </tr>\n    <tr>\n      <th>17</th>\n      <td>17</td>\n      <td>prenatal</td>\n      <td>NaN</td>\n      <td>33.0</td>\n      <td>...</td>\n      <td>NaN</td>\n      <td>f</td>\n      <td>1.0</td>\n      <td>9.0</td>\n    </tr>\n    <tr>\n      <th>18</th>\n      <td>18</td>\n      <td>prenatal</td>\n      <td>NaN</td>\n      <td>35.0</td>\n      <td>...</td>\n      <td>NaN</td>\n      <td>f</td>\n      <td>1.0</td>\n      <td>8.0</td>\n    </tr>\n    <tr>\n      <th>19</th>\n      <td>19</td>\n      <td>prenatal</td>\n      <td>NaN</td>\n      <td>30.0</td>\n      <td>...</td>\n      <td>NaN</td>\n      <td>f</td>\n      <td>2.0</td>\n      <td>9.0</td>\n    </tr>\n  </tbody>\n</table>\n<p>20 rows × 15 columns</p>\n</div>"
     },
     "execution_count": 67,
     "metadata": {},
     "output_type": "execute_result"
    }
   ],
   "source": [
    "prenatal.head(20)"
   ],
   "metadata": {
    "collapsed": false,
    "ExecuteTime": {
     "end_time": "2023-09-15T04:35:40.069857Z",
     "start_time": "2023-09-15T04:35:40.038694Z"
    }
   },
   "id": "dbaa83ad8f6e201b"
  },
  {
   "cell_type": "code",
   "execution_count": 68,
   "outputs": [
    {
     "data": {
      "text/plain": "    Unnamed: 0 Hospital Male/female   age  ...  mri  xray  children months\n0            0   sports      female  20.0  ...    t     f       NaN    NaN\n1            1   sports      female  20.0  ...    f     t       NaN    NaN\n2            2   sports        male  16.0  ...    f     t       NaN    NaN\n3            3   sports        male  17.0  ...    t     f       NaN    NaN\n4            4   sports        male  19.0  ...    f     t       NaN    NaN\n5            5      NaN         NaN   NaN  ...  NaN   NaN       NaN    NaN\n6            6   sports      female  14.0  ...    t     f       NaN    NaN\n7            7   sports      female  22.0  ...    t     f       NaN    NaN\n8            8   sports      female  21.0  ...    f     t       NaN    NaN\n9            9   sports      female  18.0  ...    t     f       NaN    NaN\n10          10   sports        male  12.0  ...    f     t       NaN    NaN\n11          11   sports        male  15.0  ...    f     t       NaN    NaN\n12          12   sports      female  22.0  ...    f     f       NaN    NaN\n13          13   sports      female  19.0  ...    f     t       NaN    NaN\n14          14   sports      female  16.0  ...    f     t       NaN    NaN\n15          15   sports      female  19.0  ...    f     t       NaN    NaN\n16          16   sports        male  18.0  ...    f     t       NaN    NaN\n17          17   sports      female  18.0  ...    t     f       NaN    NaN\n18          18   sports        male  19.0  ...    f     t       NaN    NaN\n19          19   sports      female  17.0  ...    t     f       NaN    NaN\n\n[20 rows x 15 columns]",
      "text/html": "<div>\n<style scoped>\n    .dataframe tbody tr th:only-of-type {\n        vertical-align: middle;\n    }\n\n    .dataframe tbody tr th {\n        vertical-align: top;\n    }\n\n    .dataframe thead th {\n        text-align: right;\n    }\n</style>\n<table border=\"1\" class=\"dataframe\">\n  <thead>\n    <tr style=\"text-align: right;\">\n      <th></th>\n      <th>Unnamed: 0</th>\n      <th>Hospital</th>\n      <th>Male/female</th>\n      <th>age</th>\n      <th>...</th>\n      <th>mri</th>\n      <th>xray</th>\n      <th>children</th>\n      <th>months</th>\n    </tr>\n  </thead>\n  <tbody>\n    <tr>\n      <th>0</th>\n      <td>0</td>\n      <td>sports</td>\n      <td>female</td>\n      <td>20.0</td>\n      <td>...</td>\n      <td>t</td>\n      <td>f</td>\n      <td>NaN</td>\n      <td>NaN</td>\n    </tr>\n    <tr>\n      <th>1</th>\n      <td>1</td>\n      <td>sports</td>\n      <td>female</td>\n      <td>20.0</td>\n      <td>...</td>\n      <td>f</td>\n      <td>t</td>\n      <td>NaN</td>\n      <td>NaN</td>\n    </tr>\n    <tr>\n      <th>2</th>\n      <td>2</td>\n      <td>sports</td>\n      <td>male</td>\n      <td>16.0</td>\n      <td>...</td>\n      <td>f</td>\n      <td>t</td>\n      <td>NaN</td>\n      <td>NaN</td>\n    </tr>\n    <tr>\n      <th>3</th>\n      <td>3</td>\n      <td>sports</td>\n      <td>male</td>\n      <td>17.0</td>\n      <td>...</td>\n      <td>t</td>\n      <td>f</td>\n      <td>NaN</td>\n      <td>NaN</td>\n    </tr>\n    <tr>\n      <th>4</th>\n      <td>4</td>\n      <td>sports</td>\n      <td>male</td>\n      <td>19.0</td>\n      <td>...</td>\n      <td>f</td>\n      <td>t</td>\n      <td>NaN</td>\n      <td>NaN</td>\n    </tr>\n    <tr>\n      <th>5</th>\n      <td>5</td>\n      <td>NaN</td>\n      <td>NaN</td>\n      <td>NaN</td>\n      <td>...</td>\n      <td>NaN</td>\n      <td>NaN</td>\n      <td>NaN</td>\n      <td>NaN</td>\n    </tr>\n    <tr>\n      <th>6</th>\n      <td>6</td>\n      <td>sports</td>\n      <td>female</td>\n      <td>14.0</td>\n      <td>...</td>\n      <td>t</td>\n      <td>f</td>\n      <td>NaN</td>\n      <td>NaN</td>\n    </tr>\n    <tr>\n      <th>7</th>\n      <td>7</td>\n      <td>sports</td>\n      <td>female</td>\n      <td>22.0</td>\n      <td>...</td>\n      <td>t</td>\n      <td>f</td>\n      <td>NaN</td>\n      <td>NaN</td>\n    </tr>\n    <tr>\n      <th>8</th>\n      <td>8</td>\n      <td>sports</td>\n      <td>female</td>\n      <td>21.0</td>\n      <td>...</td>\n      <td>f</td>\n      <td>t</td>\n      <td>NaN</td>\n      <td>NaN</td>\n    </tr>\n    <tr>\n      <th>9</th>\n      <td>9</td>\n      <td>sports</td>\n      <td>female</td>\n      <td>18.0</td>\n      <td>...</td>\n      <td>t</td>\n      <td>f</td>\n      <td>NaN</td>\n      <td>NaN</td>\n    </tr>\n    <tr>\n      <th>10</th>\n      <td>10</td>\n      <td>sports</td>\n      <td>male</td>\n      <td>12.0</td>\n      <td>...</td>\n      <td>f</td>\n      <td>t</td>\n      <td>NaN</td>\n      <td>NaN</td>\n    </tr>\n    <tr>\n      <th>11</th>\n      <td>11</td>\n      <td>sports</td>\n      <td>male</td>\n      <td>15.0</td>\n      <td>...</td>\n      <td>f</td>\n      <td>t</td>\n      <td>NaN</td>\n      <td>NaN</td>\n    </tr>\n    <tr>\n      <th>12</th>\n      <td>12</td>\n      <td>sports</td>\n      <td>female</td>\n      <td>22.0</td>\n      <td>...</td>\n      <td>f</td>\n      <td>f</td>\n      <td>NaN</td>\n      <td>NaN</td>\n    </tr>\n    <tr>\n      <th>13</th>\n      <td>13</td>\n      <td>sports</td>\n      <td>female</td>\n      <td>19.0</td>\n      <td>...</td>\n      <td>f</td>\n      <td>t</td>\n      <td>NaN</td>\n      <td>NaN</td>\n    </tr>\n    <tr>\n      <th>14</th>\n      <td>14</td>\n      <td>sports</td>\n      <td>female</td>\n      <td>16.0</td>\n      <td>...</td>\n      <td>f</td>\n      <td>t</td>\n      <td>NaN</td>\n      <td>NaN</td>\n    </tr>\n    <tr>\n      <th>15</th>\n      <td>15</td>\n      <td>sports</td>\n      <td>female</td>\n      <td>19.0</td>\n      <td>...</td>\n      <td>f</td>\n      <td>t</td>\n      <td>NaN</td>\n      <td>NaN</td>\n    </tr>\n    <tr>\n      <th>16</th>\n      <td>16</td>\n      <td>sports</td>\n      <td>male</td>\n      <td>18.0</td>\n      <td>...</td>\n      <td>f</td>\n      <td>t</td>\n      <td>NaN</td>\n      <td>NaN</td>\n    </tr>\n    <tr>\n      <th>17</th>\n      <td>17</td>\n      <td>sports</td>\n      <td>female</td>\n      <td>18.0</td>\n      <td>...</td>\n      <td>t</td>\n      <td>f</td>\n      <td>NaN</td>\n      <td>NaN</td>\n    </tr>\n    <tr>\n      <th>18</th>\n      <td>18</td>\n      <td>sports</td>\n      <td>male</td>\n      <td>19.0</td>\n      <td>...</td>\n      <td>f</td>\n      <td>t</td>\n      <td>NaN</td>\n      <td>NaN</td>\n    </tr>\n    <tr>\n      <th>19</th>\n      <td>19</td>\n      <td>sports</td>\n      <td>female</td>\n      <td>17.0</td>\n      <td>...</td>\n      <td>t</td>\n      <td>f</td>\n      <td>NaN</td>\n      <td>NaN</td>\n    </tr>\n  </tbody>\n</table>\n<p>20 rows × 15 columns</p>\n</div>"
     },
     "execution_count": 68,
     "metadata": {},
     "output_type": "execute_result"
    }
   ],
   "source": [
    "sports.head(20)"
   ],
   "metadata": {
    "collapsed": false,
    "ExecuteTime": {
     "end_time": "2023-09-15T04:35:40.070166Z",
     "start_time": "2023-09-15T04:35:40.046416Z"
    }
   },
   "id": "7b731337c41a3ae2"
  },
  {
   "cell_type": "markdown",
   "source": [
    "# Stage 2: Merge data"
   ],
   "metadata": {
    "collapsed": false
   },
   "id": "dc7cb4369fafb231"
  },
  {
   "cell_type": "code",
   "execution_count": 69,
   "outputs": [
    {
     "data": {
      "text/plain": "Index(['Unnamed: 0', 'hospital', 'gender', 'age', 'height', 'weight', 'bmi',\n       'diagnosis', 'blood_test', 'ecg', 'ultrasound', 'mri', 'xray',\n       'children', 'months'],\n      dtype='object')"
     },
     "execution_count": 69,
     "metadata": {},
     "output_type": "execute_result"
    }
   ],
   "source": [
    "general.columns"
   ],
   "metadata": {
    "collapsed": false,
    "ExecuteTime": {
     "end_time": "2023-09-15T04:35:40.070856Z",
     "start_time": "2023-09-15T04:35:40.049210Z"
    }
   },
   "id": "996526880eb7cb90"
  },
  {
   "cell_type": "code",
   "execution_count": 70,
   "outputs": [],
   "source": [
    "prenatal.columns = general.columns\n",
    "sports.columns = general.columns"
   ],
   "metadata": {
    "collapsed": false,
    "ExecuteTime": {
     "end_time": "2023-09-15T04:35:40.070895Z",
     "start_time": "2023-09-15T04:35:40.051651Z"
    }
   },
   "id": "50b3da98b2aa2b1f"
  },
  {
   "cell_type": "code",
   "execution_count": 71,
   "outputs": [],
   "source": [
    "merged = pd.concat([general, prenatal, sports], ignore_index=True)"
   ],
   "metadata": {
    "collapsed": false,
    "ExecuteTime": {
     "end_time": "2023-09-15T04:35:40.071023Z",
     "start_time": "2023-09-15T04:35:40.053996Z"
    }
   },
   "id": "b261f13c3b7967a7"
  },
  {
   "cell_type": "code",
   "execution_count": 72,
   "outputs": [],
   "source": [
    "merged.drop('Unnamed: 0', axis=1, inplace=True)"
   ],
   "metadata": {
    "collapsed": false,
    "ExecuteTime": {
     "end_time": "2023-09-15T04:35:40.071064Z",
     "start_time": "2023-09-15T04:35:40.058222Z"
    }
   },
   "id": "2238f534f2ec95c4"
  },
  {
   "cell_type": "code",
   "execution_count": 73,
   "outputs": [
    {
     "name": "stdout",
     "output_type": "stream",
     "text": [
      "     hospital  gender   age  height  ...  mri  xray children months\n",
      "928    sports    male  22.0   5.961  ...    t     f      NaN    NaN\n",
      "926    sports    male  26.0   5.804  ...    t     f      NaN    NaN\n",
      "901    sports  female  23.0   5.894  ...    t     f      NaN    NaN\n",
      "87    general     man  54.0   1.720  ...  NaN   NaN      NaN    NaN\n",
      "884    sports  female  20.0   6.771  ...    t     f      NaN    NaN\n",
      "297   general     man  56.0   1.480  ...  NaN   NaN      NaN    NaN\n",
      "112   general     man  77.0   1.690  ...  NaN   NaN      NaN    NaN\n",
      "209   general     man  29.0   2.080  ...  NaN   NaN      NaN    NaN\n",
      "419   general     man  53.0   1.700  ...  NaN   NaN      NaN    NaN\n",
      "913    sports  female  22.0   6.435  ...    t     f      NaN    NaN\n",
      "820    sports  female  17.0   5.722  ...    f     t      NaN    NaN\n",
      "861       NaN     NaN   NaN     NaN  ...  NaN   NaN      NaN    NaN\n",
      "10    general     man  27.0   1.850  ...  NaN   NaN      NaN    NaN\n",
      "56    general     man  23.0   1.650  ...  NaN   NaN      NaN    NaN\n",
      "618  prenatal     NaN  30.0   1.490  ...  NaN     f      0.0    2.0\n",
      "978    sports    male  17.0   5.647  ...    f     f      NaN    NaN\n",
      "373   general   woman  44.0   1.660  ...  NaN   NaN      NaN    NaN\n",
      "628  prenatal     NaN  24.0   1.610  ...  NaN     f      0.0    2.0\n",
      "858    sports    male  19.0   7.089  ...    f     t      NaN    NaN\n",
      "944    sports  female  21.0   6.217  ...    f     t      NaN    NaN\n",
      "\n",
      "[20 rows x 14 columns]\n"
     ]
    }
   ],
   "source": [
    "print(merged.sample(n=20, random_state=30))"
   ],
   "metadata": {
    "collapsed": false,
    "ExecuteTime": {
     "end_time": "2023-09-15T04:35:40.071223Z",
     "start_time": "2023-09-15T04:35:40.061075Z"
    }
   },
   "id": "7ef92902fd5c7cd8"
  },
  {
   "cell_type": "markdown",
   "source": [
    "# Stage 3: Clean the data"
   ],
   "metadata": {
    "collapsed": false
   },
   "id": "5d2022cd0164dfb1"
  },
  {
   "cell_type": "code",
   "execution_count": 74,
   "outputs": [],
   "source": [
    "hdf = merged.dropna(axis=0, how='all').copy()"
   ],
   "metadata": {
    "collapsed": false,
    "ExecuteTime": {
     "end_time": "2023-09-15T04:35:40.073062Z",
     "start_time": "2023-09-15T04:35:40.069075Z"
    }
   },
   "id": "29ddde6f7386cfc3"
  },
  {
   "cell_type": "code",
   "execution_count": 75,
   "outputs": [
    {
     "name": "stdout",
     "output_type": "stream",
     "text": [
      "<class 'pandas.core.frame.DataFrame'>\n",
      "Int64Index: 1000 entries, 0 to 1005\n",
      "Data columns (total 14 columns):\n",
      " #   Column      Non-Null Count  Dtype  \n",
      "---  ------      --------------  -----  \n",
      " 0   hospital    1000 non-null   object \n",
      " 1   gender      675 non-null    object \n",
      " 2   age         1000 non-null   float64\n",
      " 3   height      1000 non-null   float64\n",
      " 4   weight      1000 non-null   float64\n",
      " 5   bmi         1000 non-null   float64\n",
      " 6   diagnosis   1000 non-null   object \n",
      " 7   blood_test  714 non-null    object \n",
      " 8   ecg         600 non-null    object \n",
      " 9   ultrasound  480 non-null    object \n",
      " 10  mri         214 non-null    object \n",
      " 11  xray        611 non-null    object \n",
      " 12  children    325 non-null    float64\n",
      " 13  months      330 non-null    float64\n",
      "dtypes: float64(6), object(8)\n",
      "memory usage: 117.2+ KB\n"
     ]
    }
   ],
   "source": [
    "hdf.info()"
   ],
   "metadata": {
    "collapsed": false,
    "ExecuteTime": {
     "end_time": "2023-09-15T04:35:40.115512Z",
     "start_time": "2023-09-15T04:35:40.074690Z"
    }
   },
   "id": "aab60e40aad1b65"
  },
  {
   "cell_type": "code",
   "execution_count": 76,
   "outputs": [
    {
     "data": {
      "text/plain": "array(['man', 'woman', nan, 'female', 'male'], dtype=object)"
     },
     "execution_count": 76,
     "metadata": {},
     "output_type": "execute_result"
    }
   ],
   "source": [
    "hdf.gender.unique()"
   ],
   "metadata": {
    "collapsed": false,
    "ExecuteTime": {
     "end_time": "2023-09-15T04:35:40.115684Z",
     "start_time": "2023-09-15T04:35:40.077120Z"
    }
   },
   "id": "ef6e82bf0b9c08b8"
  },
  {
   "cell_type": "code",
   "execution_count": 77,
   "outputs": [],
   "source": [
    "hdf.loc[(hdf.gender == 'man') | (hdf.gender == 'male'), 'gender'] = 'm'\n",
    "hdf.loc[(hdf.gender == 'woman') | (hdf.gender == 'female'), 'gender'] = 'f'"
   ],
   "metadata": {
    "collapsed": false,
    "ExecuteTime": {
     "end_time": "2023-09-15T04:35:40.115721Z",
     "start_time": "2023-09-15T04:35:40.080758Z"
    }
   },
   "id": "314e9613e43f41e9"
  },
  {
   "cell_type": "code",
   "execution_count": 78,
   "outputs": [],
   "source": [
    "hdf.loc[(hdf.gender.isna()) & (hdf.hospital == 'prenatal'), 'gender'] = 'f'"
   ],
   "metadata": {
    "collapsed": false,
    "ExecuteTime": {
     "end_time": "2023-09-15T04:35:40.115759Z",
     "start_time": "2023-09-15T04:35:40.083227Z"
    }
   },
   "id": "3aef895cc1ddc9dd"
  },
  {
   "cell_type": "code",
   "execution_count": 79,
   "outputs": [
    {
     "data": {
      "text/plain": "array(['m', 'f'], dtype=object)"
     },
     "execution_count": 79,
     "metadata": {},
     "output_type": "execute_result"
    }
   ],
   "source": [
    "hdf.gender.unique()"
   ],
   "metadata": {
    "collapsed": false,
    "ExecuteTime": {
     "end_time": "2023-09-15T04:35:40.115833Z",
     "start_time": "2023-09-15T04:35:40.085344Z"
    }
   },
   "id": "32d30d1aeec5b700"
  },
  {
   "cell_type": "code",
   "execution_count": 80,
   "outputs": [],
   "source": [
    "hdf.bmi.fillna(0, inplace=True)\n",
    "hdf.diagnosis.fillna(0, inplace=True)\n",
    "hdf.blood_test.fillna(0, inplace=True)\n",
    "hdf.ecg.fillna(0, inplace=True)\n",
    "hdf.ultrasound.fillna(0, inplace=True)\n",
    "hdf.mri.fillna(0, inplace=True)\n",
    "hdf.xray.fillna(0, inplace=True)\n",
    "hdf.children.fillna(0, inplace=True)\n",
    "hdf.months.fillna(0, inplace=True)"
   ],
   "metadata": {
    "collapsed": false,
    "ExecuteTime": {
     "end_time": "2023-09-15T04:35:40.160786Z",
     "start_time": "2023-09-15T04:35:40.089890Z"
    }
   },
   "id": "851210da8aad25f1"
  },
  {
   "cell_type": "code",
   "execution_count": 81,
   "outputs": [
    {
     "name": "stdout",
     "output_type": "stream",
     "text": [
      "(1000, 14)\n",
      "     hospital gender   age  height  ...  mri  xray children months\n",
      "929    sports      f  23.0   6.809  ...    t     f      0.0    0.0\n",
      "927    sports      m  21.0   6.052  ...    t     f      0.0    0.0\n",
      "516  prenatal      f  20.0   1.650  ...    0     f      1.0    4.0\n",
      "87    general      m  54.0   1.720  ...    0     0      0.0    0.0\n",
      "885    sports      f  16.0   5.915  ...    t     f      0.0    0.0\n",
      "463  prenatal      f  34.0   1.650  ...    0     f      1.0    5.0\n",
      "112   general      m  77.0   1.690  ...    0     0      0.0    0.0\n",
      "297   general      m  56.0   1.480  ...    0     0      0.0    0.0\n",
      "417   general      f  26.0   1.650  ...    0     0      0.0    0.0\n",
      "660  prenatal      f  38.0   1.590  ...    0     f      1.0    4.0\n",
      "344   general      f  60.0   1.410  ...    0     0      0.0    0.0\n",
      "834    sports      f  21.0   5.585  ...    f     t      0.0    0.0\n",
      "10    general      m  27.0   1.850  ...    0     0      0.0    0.0\n",
      "56    general      m  23.0   1.650  ...    0     0      0.0    0.0\n",
      "616  prenatal      f  33.0   1.770  ...    0     f      1.0    7.0\n",
      "479  prenatal      f  35.0   1.810  ...    0     f      1.0    8.0\n",
      "578  prenatal      f  31.0   1.770  ...    0     f      1.0    8.0\n",
      "411   general      m  26.0   1.610  ...    0     0      0.0    0.0\n",
      "521  prenatal      f  30.0   1.740  ...    0     f      1.0    3.0\n",
      "941    sports      f  25.0   6.208  ...    f     t      0.0    0.0\n",
      "\n",
      "[20 rows x 14 columns]\n"
     ]
    }
   ],
   "source": [
    "print(hdf.shape)\n",
    "print(hdf.sample(n=20, random_state=30))"
   ],
   "metadata": {
    "collapsed": false,
    "ExecuteTime": {
     "end_time": "2023-09-15T04:35:40.161031Z",
     "start_time": "2023-09-15T04:35:40.091762Z"
    }
   },
   "id": "f2cd2eead1e4ae3f"
  },
  {
   "cell_type": "markdown",
   "source": [
    "# Stage 4: The Statistics"
   ],
   "metadata": {
    "collapsed": false
   },
   "id": "17163119dfde6d14"
  },
  {
   "cell_type": "markdown",
   "source": [
    "1. Which hospital has the highest number of patients?"
   ],
   "metadata": {
    "collapsed": false
   },
   "id": "d598d8a0a4a10956"
  },
  {
   "cell_type": "code",
   "execution_count": 123,
   "outputs": [],
   "source": [
    "ans1 = hdf.groupby('hospital', as_index=False).agg('count').\\\n",
    "    sort_values(by='gender').hospital.tail(1).values[0]"
   ],
   "metadata": {
    "collapsed": false,
    "ExecuteTime": {
     "end_time": "2023-09-15T04:50:09.135023Z",
     "start_time": "2023-09-15T04:50:09.124616Z"
    }
   },
   "id": "8602968216a1b5d1"
  },
  {
   "cell_type": "markdown",
   "source": [
    "2. What share of the patients in the general hospital suffers from stomach-related issues? Round the result to the third decimal place."
   ],
   "metadata": {
    "collapsed": false
   },
   "id": "a79a3a1488a780c3"
  },
  {
   "cell_type": "code",
   "execution_count": 132,
   "outputs": [],
   "source": [
    "general_hdf = hdf.loc[hdf.hospital == 'general']\n",
    "n_stomach = (general_hdf.diagnosis == 'stomach').sum()  \n",
    "n_general = general_hdf.shape[0]\n",
    "ans2 = round(n_stomach / n_general, 3)"
   ],
   "metadata": {
    "collapsed": false,
    "ExecuteTime": {
     "end_time": "2023-09-15T04:53:11.996011Z",
     "start_time": "2023-09-15T04:53:11.990323Z"
    }
   },
   "id": "f57de190b42d7599"
  },
  {
   "cell_type": "markdown",
   "source": [
    "3. What share of the patients in the sports hospital suffers from dislocation-related issues? Round the result to the third decimal place."
   ],
   "metadata": {
    "collapsed": false
   },
   "id": "a6cff08833ea0ebb"
  },
  {
   "cell_type": "code",
   "execution_count": 137,
   "outputs": [],
   "source": [
    "sports_hdf = hdf.loc[hdf.hospital == 'sports']\n",
    "n_dislocate = (sports_hdf.diagnosis == 'dislocation').sum()\n",
    "n_sports = sports_hdf.shape[0]\n",
    "ans3 = round(n_dislocate / n_sports, 3)"
   ],
   "metadata": {
    "collapsed": false,
    "ExecuteTime": {
     "end_time": "2023-09-15T04:55:07.078281Z",
     "start_time": "2023-09-15T04:55:07.070381Z"
    }
   },
   "id": "6ec3e3eb3f93ee33"
  },
  {
   "cell_type": "markdown",
   "source": [
    "4. What is the difference in the median ages of the patients in the general and sports hospitals?"
   ],
   "metadata": {
    "collapsed": false
   },
   "id": "bc111c3b7c801299"
  },
  {
   "cell_type": "code",
   "execution_count": 142,
   "outputs": [],
   "source": [
    "ans4 = general_hdf.age.median() - sports_hdf.age.median()"
   ],
   "metadata": {
    "collapsed": false,
    "ExecuteTime": {
     "end_time": "2023-09-15T04:57:10.389122Z",
     "start_time": "2023-09-15T04:57:10.380489Z"
    }
   },
   "id": "2481360c67d5e38a"
  },
  {
   "cell_type": "markdown",
   "source": [
    "5. After data processing at the previous stages, the blood_test column has three values: t = a blood test was taken, f = a blood test wasn't taken, and 0 = there is no information. In which hospital the blood test was taken the most often (there is the biggest number of t in the blood_test column among all the hospitals)? How many blood tests were taken?"
   ],
   "metadata": {
    "collapsed": false
   },
   "id": "b324132cc522f315"
  },
  {
   "cell_type": "code",
   "execution_count": 154,
   "outputs": [],
   "source": [
    "h = hdf.loc[:,['hospital','blood_test','age']].pivot_table(index='hospital', columns='blood_test', aggfunc='count')"
   ],
   "metadata": {
    "collapsed": false,
    "ExecuteTime": {
     "end_time": "2023-09-15T05:03:07.206191Z",
     "start_time": "2023-09-15T05:03:07.196186Z"
    }
   },
   "id": "abfb63bd9e33183d"
  },
  {
   "cell_type": "code",
   "execution_count": 182,
   "outputs": [],
   "source": [
    "ans5 = h['age']['t'].sort_values(ascending=False).head(1).index.values[0]\n",
    "ans5_n = int(h['age']['t'].sort_values(ascending=False).head(1).values[0])"
   ],
   "metadata": {
    "collapsed": false,
    "ExecuteTime": {
     "end_time": "2023-09-15T05:10:14.208814Z",
     "start_time": "2023-09-15T05:10:14.204464Z"
    }
   },
   "id": "86ccc02d68391760"
  },
  {
   "cell_type": "markdown",
   "source": [
    "## answer"
   ],
   "metadata": {
    "collapsed": false
   },
   "id": "2da18656d05a5d3c"
  },
  {
   "cell_type": "code",
   "execution_count": 183,
   "outputs": [
    {
     "name": "stdout",
     "output_type": "stream",
     "text": [
      "The answer to the 1st question is general\n",
      "The answer to the 2nd question is 0.325\n",
      "The answer to the 3rd question is 0.285\n",
      "The answer to the 4th question is 19.0\n",
      "The answer to the 5th question is prenatal, 325 blood tests\n"
     ]
    }
   ],
   "source": [
    "print(f\"The answer to the 1st question is {ans1}\")\n",
    "print(f\"The answer to the 2nd question is {ans2}\")\n",
    "print(f\"The answer to the 3rd question is {ans3}\")\n",
    "print(f\"The answer to the 4th question is {ans4}\")\n",
    "print(f\"The answer to the 5th question is {ans5}, {ans5_n} blood tests\")"
   ],
   "metadata": {
    "collapsed": false,
    "ExecuteTime": {
     "end_time": "2023-09-15T05:10:15.345442Z",
     "start_time": "2023-09-15T05:10:15.342556Z"
    }
   },
   "id": "d40f9d12d0bc5c36"
  },
  {
   "cell_type": "markdown",
   "source": [
    "# 5. Visualize It"
   ],
   "metadata": {
    "collapsed": false
   },
   "id": "6435e248d292add1"
  },
  {
   "cell_type": "markdown",
   "source": [
    "1. What is the most common age of a patient among all hospitals? Plot a histogram and choose one of the following age ranges: 0-15, 15-35, 35-55, 55-70, or 70-80."
   ],
   "metadata": {
    "collapsed": false
   },
   "id": "24342f641a6c2cc2"
  },
  {
   "cell_type": "code",
   "execution_count": 188,
   "outputs": [],
   "source": [
    "import matplotlib.pyplot as plt"
   ],
   "metadata": {
    "collapsed": false,
    "ExecuteTime": {
     "end_time": "2023-09-15T06:37:43.622184Z",
     "start_time": "2023-09-15T06:37:43.619677Z"
    }
   },
   "id": "41d55ee07d2db8b9"
  },
  {
   "cell_type": "code",
   "execution_count": 197,
   "outputs": [
    {
     "data": {
      "text/plain": "<Figure size 640x480 with 1 Axes>",
      "image/png": "[encoded data removed]"
     },
     "metadata": {},
     "output_type": "display_data"
    }
   ],
   "source": [
    "bins = [0, 15, 35, 55, 70, 80]\n",
    "plt.hist(x=hdf.age, bins=bins, rwidth=0.9);\n",
    "plt.xticks(bins);"
   ],
   "metadata": {
    "collapsed": false,
    "ExecuteTime": {
     "end_time": "2023-09-15T06:41:28.840694Z",
     "start_time": "2023-09-15T06:41:28.786022Z"
    }
   },
   "id": "9161040d298a23fb"
  },
  {
   "cell_type": "code",
   "execution_count": 221,
   "outputs": [],
   "source": [
    "ans1 = \"15-35\""
   ],
   "metadata": {
    "collapsed": false,
    "ExecuteTime": {
     "end_time": "2023-09-15T06:49:49.836573Z",
     "start_time": "2023-09-15T06:49:49.830424Z"
    }
   },
   "id": "f95d6a1ac4203adb"
  },
  {
   "cell_type": "markdown",
   "source": [
    "2. What is the most common diagnosis among patients in all hospitals? Create a pie chart."
   ],
   "metadata": {
    "collapsed": false
   },
   "id": "544d409193828d3e"
  },
  {
   "cell_type": "code",
   "execution_count": 222,
   "outputs": [],
   "source": [
    "diag = hdf.groupby('diagnosis', as_index=False).count().loc[:, ['diagnosis', 'hospital']]"
   ],
   "metadata": {
    "collapsed": false,
    "ExecuteTime": {
     "end_time": "2023-09-15T06:49:52.038927Z",
     "start_time": "2023-09-15T06:49:52.023894Z"
    }
   },
   "id": "37e79cc2fded63f0"
  },
  {
   "cell_type": "code",
   "execution_count": 223,
   "outputs": [],
   "source": [
    "diag.sort_values(by='hospital', ascending=False, inplace=True)"
   ],
   "metadata": {
    "collapsed": false,
    "ExecuteTime": {
     "end_time": "2023-09-15T06:49:52.484942Z",
     "start_time": "2023-09-15T06:49:52.481395Z"
    }
   },
   "id": "dd639b4af52cc56c"
  },
  {
   "cell_type": "code",
   "execution_count": 224,
   "outputs": [],
   "source": [
    "ans2 = diag.diagnosis.values[0]"
   ],
   "metadata": {
    "collapsed": false,
    "ExecuteTime": {
     "end_time": "2023-09-15T06:49:52.781300Z",
     "start_time": "2023-09-15T06:49:52.776418Z"
    }
   },
   "id": "30c2444935235655"
  },
  {
   "cell_type": "code",
   "execution_count": 225,
   "outputs": [
    {
     "data": {
      "text/plain": "<Figure size 640x480 with 1 Axes>",
      "image/png": "[encoded data removed]"
     },
     "metadata": {},
     "output_type": "display_data"
    }
   ],
   "source": [
    "plt.pie(x=diag.hospital.values,labels=diag.diagnosis.values, autopct='%1.2f%%');"
   ],
   "metadata": {
    "collapsed": false,
    "ExecuteTime": {
     "end_time": "2023-09-15T06:49:53.372120Z",
     "start_time": "2023-09-15T06:49:53.328503Z"
    }
   },
   "id": "25949f99aac9b54e"
  },
  {
   "cell_type": "markdown",
   "source": [
    "3. Build a violin plot of height distribution by hospitals. Try to answer the questions. What is the main reason for the gap in values? Why there are two peaks, which correspond to the relatively small and big values? No special form is required to answer this question."
   ],
   "metadata": {
    "collapsed": false
   },
   "id": "22e1ef5dda2a48e1"
  },
  {
   "cell_type": "code",
   "execution_count": 244,
   "outputs": [
    {
     "data": {
      "text/plain": "<Figure size 640x480 with 1 Axes>",
      "image/png": "[encoded data removed]"
     },
     "metadata": {},
     "output_type": "display_data"
    }
   ],
   "source": [
    "import numpy as np\n",
    "\n",
    "general_hdf = hdf.loc[hdf.hospital == 'general']\n",
    "prenatal_hdf = hdf.loc[hdf.hospital == 'prenatal']\n",
    "sports_hdf = hdf.loc[hdf.hospital == 'sports']\n",
    "\n",
    "dataset = [general_hdf.height, prenatal_hdf.height, sports_hdf.height]\n",
    "\n",
    "fig, ax = plt.subplots()\n",
    "\n",
    "ax.violinplot(dataset);\n",
    "ax.set_xticks(np.arange(1, len(dataset)+1))\n",
    "ax.set_xticklabels(['general', 'prenatal', 'sports']);"
   ],
   "metadata": {
    "collapsed": false,
    "ExecuteTime": {
     "end_time": "2023-09-15T06:58:19.662315Z",
     "start_time": "2023-09-15T06:58:19.394265Z"
    }
   },
   "id": "487f128e44b28f0d"
  },
  {
   "cell_type": "code",
   "execution_count": 249,
   "outputs": [],
   "source": [
    "ans3 = \"use of different measurement units\""
   ],
   "metadata": {
    "collapsed": false,
    "ExecuteTime": {
     "end_time": "2023-09-15T07:01:38.439090Z",
     "start_time": "2023-09-15T07:01:38.430917Z"
    }
   },
   "id": "b30b693514207323"
  },
  {
   "cell_type": "code",
   "execution_count": 250,
   "outputs": [
    {
     "name": "stdout",
     "output_type": "stream",
     "text": [
      "The answer to the 1st question: 15-35\n",
      "The answer to the 2nd question: pregnancy\n",
      "The answer to the 3rd question: It's because sports\n"
     ]
    }
   ],
   "source": [
    "print(f\"The answer to the 1st question: {ans1}\");\n",
    "print(f\"The answer to the 2nd question: {ans2}\");\n",
    "print(f\"The answer to the 3rd question: It's because {ans3}\")"
   ],
   "metadata": {
    "collapsed": false,
    "ExecuteTime": {
     "end_time": "2023-09-15T07:01:39.141968Z",
     "start_time": "2023-09-15T07:01:39.128574Z"
    }
   },
   "id": "cd0006ba5208045e"
  },
  {
   "cell_type": "code",
   "execution_count": 247,
   "outputs": [
    {
     "data": {
      "text/plain": "789     5.871\n790     6.665\n791     6.960\n792     7.128\n793     5.993\n        ...  \n1001    6.777\n1002    5.400\n1003    6.089\n1004    6.176\n1005    6.692\nName: height, Length: 214, dtype: float64"
     },
     "execution_count": 247,
     "metadata": {},
     "output_type": "execute_result"
    }
   ],
   "source": [
    "sports_hdf.height"
   ],
   "metadata": {
    "collapsed": false,
    "ExecuteTime": {
     "end_time": "2023-09-15T06:59:52.053807Z",
     "start_time": "2023-09-15T06:59:52.050401Z"
    }
   },
   "id": "c94763ca1300a964"
  },
  {
   "cell_type": "code",
   "execution_count": null,
   "outputs": [],
   "source": [],
   "metadata": {
    "collapsed": false
   },
   "id": "2515f61f2157f3c1"
  }
 ],
 "metadata": {
  "kernelspec": {
   "display_name": "Python 3",
   "language": "python",
   "name": "python3"
  },
  "language_info": {
   "codemirror_mode": {
    "name": "ipython",
    "version": 2
   },
   "file_extension": ".py",
   "mimetype": "text/x-python",
   "name": "python",
   "nbconvert_exporter": "python",
   "pygments_lexer": "ipython2",
   "version": "2.7.6"
  }
 },
 "nbformat": 4,
 "nbformat_minor": 5
}
