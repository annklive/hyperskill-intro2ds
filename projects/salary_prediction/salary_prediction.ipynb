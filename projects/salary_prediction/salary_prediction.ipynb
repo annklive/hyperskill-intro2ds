{
 "cells": [
  {
   "cell_type": "code",
   "execution_count": 1,
   "id": "8408a839-c31a-41ce-84c8-739079792c0b",
   "metadata": {},
   "outputs": [],
   "source": [
    "import os\n",
    "import requests\n",
    "\n",
    "import pandas as pd"
   ]
  },
  {
   "cell_type": "code",
   "execution_count": 2,
   "id": "a446f7e4-2bb8-46de-8079-50d8d61aa396",
   "metadata": {},
   "outputs": [],
   "source": [
    "if 'data.csv' not in os.listdir('./Data'):\n",
    "    url = \"https://www.dropbox.com/s/3cml50uv7zm46ly/data.csv?dl=1\"\n",
    "    r = requests.get(url, allow_redirects=True)\n",
    "    open('./Data/data.csv', 'wb').write(r.content)\n",
    "\n",
    "# read data\n",
    "data = pd.read_csv('./Data/data.csv')"
   ]
  },
  {
   "cell_type": "code",
   "execution_count": 3,
   "id": "aa907c76-8152-48bc-9bb6-05b9a9704801",
   "metadata": {},
   "outputs": [
    {
     "name": "stdout",
     "output_type": "stream",
     "text": [
      "<class 'pandas.core.frame.DataFrame'>\n",
      "RangeIndex: 439 entries, 0 to 438\n",
      "Data columns (total 6 columns):\n",
      " #   Column       Non-Null Count  Dtype  \n",
      "---  ------       --------------  -----  \n",
      " 0   rating       439 non-null    int64  \n",
      " 1   salary       439 non-null    float64\n",
      " 2   draft_round  439 non-null    int64  \n",
      " 3   age          439 non-null    int64  \n",
      " 4   experience   439 non-null    int64  \n",
      " 5   bmi          439 non-null    float64\n",
      "dtypes: float64(2), int64(4)\n",
      "memory usage: 20.7 KB\n"
     ]
    }
   ],
   "source": [
    "data.info()"
   ]
  },
  {
   "cell_type": "code",
   "execution_count": 4,
   "id": "1bcac877-8157-4fda-bc8f-63ed8b759d26",
   "metadata": {},
   "outputs": [
    {
     "data": {
      "text/html": [
       "<div>\n",
       "<style scoped>\n",
       "    .dataframe tbody tr th:only-of-type {\n",
       "        vertical-align: middle;\n",
       "    }\n",
       "\n",
       "    .dataframe tbody tr th {\n",
       "        vertical-align: top;\n",
       "    }\n",
       "\n",
       "    .dataframe thead th {\n",
       "        text-align: right;\n",
       "    }\n",
       "</style>\n",
       "<table border=\"1\" class=\"dataframe\">\n",
       "  <thead>\n",
       "    <tr style=\"text-align: right;\">\n",
       "      <th></th>\n",
       "      <th>rating</th>\n",
       "      <th>salary</th>\n",
       "      <th>draft_round</th>\n",
       "      <th>age</th>\n",
       "      <th>experience</th>\n",
       "      <th>bmi</th>\n",
       "    </tr>\n",
       "  </thead>\n",
       "  <tbody>\n",
       "    <tr>\n",
       "      <th>0</th>\n",
       "      <td>97</td>\n",
       "      <td>37436858.0</td>\n",
       "      <td>1</td>\n",
       "      <td>36</td>\n",
       "      <td>17</td>\n",
       "      <td>26.722594</td>\n",
       "    </tr>\n",
       "    <tr>\n",
       "      <th>1</th>\n",
       "      <td>97</td>\n",
       "      <td>32742000.0</td>\n",
       "      <td>1</td>\n",
       "      <td>29</td>\n",
       "      <td>9</td>\n",
       "      <td>25.271652</td>\n",
       "    </tr>\n",
       "    <tr>\n",
       "      <th>2</th>\n",
       "      <td>96</td>\n",
       "      <td>25842697.0</td>\n",
       "      <td>1</td>\n",
       "      <td>26</td>\n",
       "      <td>7</td>\n",
       "      <td>24.662519</td>\n",
       "    </tr>\n",
       "    <tr>\n",
       "      <th>3</th>\n",
       "      <td>96</td>\n",
       "      <td>37199000.0</td>\n",
       "      <td>1</td>\n",
       "      <td>32</td>\n",
       "      <td>13</td>\n",
       "      <td>24.107803</td>\n",
       "    </tr>\n",
       "    <tr>\n",
       "      <th>4</th>\n",
       "      <td>96</td>\n",
       "      <td>38199000.0</td>\n",
       "      <td>1</td>\n",
       "      <td>31</td>\n",
       "      <td>11</td>\n",
       "      <td>25.978759</td>\n",
       "    </tr>\n",
       "  </tbody>\n",
       "</table>\n",
       "</div>"
      ],
      "text/plain": [
       "   rating      salary  draft_round  age  experience        bmi\n",
       "0      97  37436858.0            1   36          17  26.722594\n",
       "1      97  32742000.0            1   29           9  25.271652\n",
       "2      96  25842697.0            1   26           7  24.662519\n",
       "3      96  37199000.0            1   32          13  24.107803\n",
       "4      96  38199000.0            1   31          11  25.978759"
      ]
     },
     "execution_count": 4,
     "metadata": {},
     "output_type": "execute_result"
    }
   ],
   "source": [
    "data.head()"
   ]
  },
  {
   "cell_type": "markdown",
   "id": "7ae34630-3b30-4841-bec1-bcc533043fa9",
   "metadata": {},
   "source": [
    "## Stage 1: Linear regression with one independent variable"
   ]
  },
  {
   "cell_type": "code",
   "execution_count": 152,
   "id": "c4a0fd36-cab7-45f4-b827-b16e127e637f",
   "metadata": {},
   "outputs": [],
   "source": [
    "X = pd.DataFrame(data.rating)\n",
    "y = data.salary"
   ]
  },
  {
   "cell_type": "code",
   "execution_count": 153,
   "id": "832e5e63-40c4-4014-8988-30bd26da2ee8",
   "metadata": {},
   "outputs": [
    {
     "name": "stdout",
     "output_type": "stream",
     "text": [
      "<class 'pandas.core.frame.DataFrame'>\n",
      "RangeIndex: 439 entries, 0 to 438\n",
      "Data columns (total 1 columns):\n",
      " #   Column  Non-Null Count  Dtype\n",
      "---  ------  --------------  -----\n",
      " 0   rating  439 non-null    int64\n",
      "dtypes: int64(1)\n",
      "memory usage: 3.6 KB\n"
     ]
    }
   ],
   "source": [
    "X.info()"
   ]
  },
  {
   "cell_type": "code",
   "execution_count": 154,
   "id": "8c43a011-7af9-4afb-9fa3-2403f95e8ae0",
   "metadata": {},
   "outputs": [
    {
     "name": "stdout",
     "output_type": "stream",
     "text": [
      "<class 'pandas.core.series.Series'>\n",
      "RangeIndex: 439 entries, 0 to 438\n",
      "Series name: salary\n",
      "Non-Null Count  Dtype  \n",
      "--------------  -----  \n",
      "439 non-null    float64\n",
      "dtypes: float64(1)\n",
      "memory usage: 3.6 KB\n"
     ]
    }
   ],
   "source": [
    "y.info()"
   ]
  },
  {
   "cell_type": "code",
   "execution_count": 155,
   "id": "ee9f138f-b4ab-4917-a2e5-5a340b6fca10",
   "metadata": {},
   "outputs": [],
   "source": [
    "from sklearn.model_selection import train_test_split\n",
    "\n",
    "X_train, X_test, y_train, y_test = train_test_split(X, y, test_size=0.3, random_state=100)"
   ]
  },
  {
   "cell_type": "code",
   "execution_count": 156,
   "id": "21b5d3dd-a91e-4c3b-8fe8-2884224e8808",
   "metadata": {},
   "outputs": [
    {
     "data": {
      "text/plain": [
       "((307, 1), (132, 1), (307,), (132,))"
      ]
     },
     "execution_count": 156,
     "metadata": {},
     "output_type": "execute_result"
    }
   ],
   "source": [
    "X_train.shape, X_test.shape, y_train.shape, y_test.shape"
   ]
  },
  {
   "cell_type": "code",
   "execution_count": 157,
   "id": "7cb47d5f-56ed-4ce0-8637-4bbe6af28fc1",
   "metadata": {},
   "outputs": [
    {
     "data": {
      "text/html": [
       "<style>#sk-container-id-3 {color: black;}#sk-container-id-3 pre{padding: 0;}#sk-container-id-3 div.sk-toggleable {background-color: white;}#sk-container-id-3 label.sk-toggleable__label {cursor: pointer;display: block;width: 100%;margin-bottom: 0;padding: 0.3em;box-sizing: border-box;text-align: center;}#sk-container-id-3 label.sk-toggleable__label-arrow:before {content: \"▸\";float: left;margin-right: 0.25em;color: #696969;}#sk-container-id-3 label.sk-toggleable__label-arrow:hover:before {color: black;}#sk-container-id-3 div.sk-estimator:hover label.sk-toggleable__label-arrow:before {color: black;}#sk-container-id-3 div.sk-toggleable__content {max-height: 0;max-width: 0;overflow: hidden;text-align: left;background-color: #f0f8ff;}#sk-container-id-3 div.sk-toggleable__content pre {margin: 0.2em;color: black;border-radius: 0.25em;background-color: #f0f8ff;}#sk-container-id-3 input.sk-toggleable__control:checked~div.sk-toggleable__content {max-height: 200px;max-width: 100%;overflow: auto;}#sk-container-id-3 input.sk-toggleable__control:checked~label.sk-toggleable__label-arrow:before {content: \"▾\";}#sk-container-id-3 div.sk-estimator input.sk-toggleable__control:checked~label.sk-toggleable__label {background-color: #d4ebff;}#sk-container-id-3 div.sk-label input.sk-toggleable__control:checked~label.sk-toggleable__label {background-color: #d4ebff;}#sk-container-id-3 input.sk-hidden--visually {border: 0;clip: rect(1px 1px 1px 1px);clip: rect(1px, 1px, 1px, 1px);height: 1px;margin: -1px;overflow: hidden;padding: 0;position: absolute;width: 1px;}#sk-container-id-3 div.sk-estimator {font-family: monospace;background-color: #f0f8ff;border: 1px dotted black;border-radius: 0.25em;box-sizing: border-box;margin-bottom: 0.5em;}#sk-container-id-3 div.sk-estimator:hover {background-color: #d4ebff;}#sk-container-id-3 div.sk-parallel-item::after {content: \"\";width: 100%;border-bottom: 1px solid gray;flex-grow: 1;}#sk-container-id-3 div.sk-label:hover label.sk-toggleable__label {background-color: #d4ebff;}#sk-container-id-3 div.sk-serial::before {content: \"\";position: absolute;border-left: 1px solid gray;box-sizing: border-box;top: 0;bottom: 0;left: 50%;z-index: 0;}#sk-container-id-3 div.sk-serial {display: flex;flex-direction: column;align-items: center;background-color: white;padding-right: 0.2em;padding-left: 0.2em;position: relative;}#sk-container-id-3 div.sk-item {position: relative;z-index: 1;}#sk-container-id-3 div.sk-parallel {display: flex;align-items: stretch;justify-content: center;background-color: white;position: relative;}#sk-container-id-3 div.sk-item::before, #sk-container-id-3 div.sk-parallel-item::before {content: \"\";position: absolute;border-left: 1px solid gray;box-sizing: border-box;top: 0;bottom: 0;left: 50%;z-index: -1;}#sk-container-id-3 div.sk-parallel-item {display: flex;flex-direction: column;z-index: 1;position: relative;background-color: white;}#sk-container-id-3 div.sk-parallel-item:first-child::after {align-self: flex-end;width: 50%;}#sk-container-id-3 div.sk-parallel-item:last-child::after {align-self: flex-start;width: 50%;}#sk-container-id-3 div.sk-parallel-item:only-child::after {width: 0;}#sk-container-id-3 div.sk-dashed-wrapped {border: 1px dashed gray;margin: 0 0.4em 0.5em 0.4em;box-sizing: border-box;padding-bottom: 0.4em;background-color: white;}#sk-container-id-3 div.sk-label label {font-family: monospace;font-weight: bold;display: inline-block;line-height: 1.2em;}#sk-container-id-3 div.sk-label-container {text-align: center;}#sk-container-id-3 div.sk-container {/* jupyter's `normalize.less` sets `[hidden] { display: none; }` but bootstrap.min.css set `[hidden] { display: none !important; }` so we also need the `!important` here to be able to override the default hidden behavior on the sphinx rendered scikit-learn.org. See: https://github.com/scikit-learn/scikit-learn/issues/21755 */display: inline-block !important;position: relative;}#sk-container-id-3 div.sk-text-repr-fallback {display: none;}</style><div id=\"sk-container-id-3\" class=\"sk-top-container\"><div class=\"sk-text-repr-fallback\"><pre>LinearRegression()</pre><b>In a Jupyter environment, please rerun this cell to show the HTML representation or trust the notebook. <br />On GitHub, the HTML representation is unable to render, please try loading this page with nbviewer.org.</b></div><div class=\"sk-container\" hidden><div class=\"sk-item\"><div class=\"sk-estimator sk-toggleable\"><input class=\"sk-toggleable__control sk-hidden--visually\" id=\"sk-estimator-id-3\" type=\"checkbox\" checked><label for=\"sk-estimator-id-3\" class=\"sk-toggleable__label sk-toggleable__label-arrow\">LinearRegression</label><div class=\"sk-toggleable__content\"><pre>LinearRegression()</pre></div></div></div></div></div>"
      ],
      "text/plain": [
       "LinearRegression()"
      ]
     },
     "execution_count": 157,
     "metadata": {},
     "output_type": "execute_result"
    }
   ],
   "source": [
    "from sklearn.linear_model import LinearRegression\n",
    "\n",
    "model = LinearRegression()\n",
    "model.fit(X_train, y_train)"
   ]
  },
  {
   "cell_type": "code",
   "execution_count": 158,
   "id": "c5de4c4b-2f88-44f7-8297-db1fb548b750",
   "metadata": {},
   "outputs": [],
   "source": [
    "y_pred = model.predict(X_test)"
   ]
  },
  {
   "cell_type": "code",
   "execution_count": 159,
   "id": "1cb85e92-75d1-4577-8d78-fd3e40c97d4a",
   "metadata": {},
   "outputs": [],
   "source": [
    "from sklearn.metrics import mean_absolute_percentage_error\n",
    "\n",
    "mape = mean_absolute_percentage_error(y_test, y_pred)"
   ]
  },
  {
   "cell_type": "code",
   "execution_count": 160,
   "id": "2cdd743c-9170-409f-ba6d-9aee2482e1f6",
   "metadata": {},
   "outputs": [
    {
     "name": "stdout",
     "output_type": "stream",
     "text": [
      "-92394937.42462 1322928.79254 1.20990\n"
     ]
    }
   ],
   "source": [
    "print(f\"{model.intercept_:.5f} {model.coef_[0]:.5f} {mape:.5f}\")"
   ]
  },
  {
   "cell_type": "code",
   "execution_count": 186,
   "id": "e021cb94-71bc-49c1-8553-b3417b00d6e8",
   "metadata": {},
   "outputs": [],
   "source": [
    "X_ = X.iloc[:, 0].to_numpy()\n",
    "X_ = X_.reshape((X_.shape[0], 1))\n",
    "X_data = np.concatenate((np.ones(X_.shape), X_), axis=1)\n",
    "W = np.array([model.intercept_ , model.coef_[0]]).reshape((2, 1))\n",
    "y_data = np.matmul(X_data, W)"
   ]
  },
  {
   "cell_type": "code",
   "execution_count": 189,
   "id": "4662affa-dc59-49bd-9bd5-82083e6f0d4a",
   "metadata": {},
   "outputs": [
    {
     "data": {
      "image/png": "[encoded data removed]",
      "text/plain": [
       "<Figure size 640x480 with 1 Axes>"
      ]
     },
     "metadata": {},
     "output_type": "display_data"
    }
   ],
   "source": [
    "import matplotlib.pyplot as plt\n",
    "\n",
    "plt.scatter(X_data[:,1], y)\n",
    "plt.plot(X_data[:,1], y_data, c='red')\n",
    "plt.xlabel(\"Player's rating\")\n",
    "plt.ylabel(\"Player's salary\")\n",
    "plt.grid()"
   ]
  },
  {
   "cell_type": "markdown",
   "id": "14a87b2a-e16e-4253-8557-e605a741efb0",
   "metadata": {},
   "source": [
    "## Stage 2: Linear regression with predictor transformation"
   ]
  },
  {
   "cell_type": "code",
   "execution_count": 16,
   "id": "13a8006b-1fab-4ef3-8128-48403d98a701",
   "metadata": {},
   "outputs": [
    {
     "name": "stdout",
     "output_type": "stream",
     "text": [
      "0.94182\n",
      "[1.0414037939652077, 0.9418168196379301, 1.0765184496984317]\n"
     ]
    }
   ],
   "source": [
    "def train_and_test_model(power):\n",
    "    # read data\n",
    "    data = pd.read_csv('./Data/data.csv')\n",
    "    X = pd.DataFrame(data.rating)\n",
    "    y = data.salary\n",
    "    \n",
    "    X_ = X.copy()\n",
    "    for i in range(power-1):\n",
    "        X_ = X_ * X\n",
    "\n",
    "    X_train, X_test, y_train, y_test = \\\n",
    "        train_test_split(X_, y, test_size=0.3, random_state=100)\n",
    "\n",
    "    model = LinearRegression()\n",
    "    model.fit(X_train, y_train)\n",
    "    y_pred = model.predict(X_test)\n",
    "    mape_score = mean_absolute_percentage_error(y_test, y_pred)\n",
    "    return mape_score\n",
    "\n",
    "mape_scores = []\n",
    "for p in [2,3,4]:\n",
    "    score = train_and_test_model(p)\n",
    "    mape_scores.append(score)\n",
    "\n",
    "print(round(min(mape_scores), 5))"
   ]
  },
  {
   "cell_type": "markdown",
   "id": "8d4e17e1-acc2-4fa1-8960-f3b38ac34db9",
   "metadata": {},
   "source": [
    "# Stage 3: Linear Regression with many independent variables"
   ]
  },
  {
   "cell_type": "code",
   "execution_count": 21,
   "id": "f71bf93a-4092-4759-8caa-92c9ea2e6713",
   "metadata": {},
   "outputs": [
    {
     "name": "stdout",
     "output_type": "stream",
     "text": [
      "<class 'pandas.core.frame.DataFrame'>\n",
      "RangeIndex: 439 entries, 0 to 438\n",
      "Data columns (total 6 columns):\n",
      " #   Column       Non-Null Count  Dtype  \n",
      "---  ------       --------------  -----  \n",
      " 0   rating       439 non-null    int64  \n",
      " 1   salary       439 non-null    float64\n",
      " 2   draft_round  439 non-null    int64  \n",
      " 3   age          439 non-null    int64  \n",
      " 4   experience   439 non-null    int64  \n",
      " 5   bmi          439 non-null    float64\n",
      "dtypes: float64(2), int64(4)\n",
      "memory usage: 20.7 KB\n"
     ]
    }
   ],
   "source": [
    "import pandas as pd\n",
    "\n",
    "data = pd.read_csv('./Data/data.csv')\n",
    "data.info()"
   ]
  },
  {
   "cell_type": "code",
   "execution_count": 23,
   "id": "cc28645e-57c1-4ce8-885f-5aa10fe64c84",
   "metadata": {},
   "outputs": [],
   "source": [
    "y = data.salary\n",
    "X = data.drop('salary', axis=1)"
   ]
  },
  {
   "cell_type": "code",
   "execution_count": 25,
   "id": "0fd96a4a-6454-42a4-81f4-e05e65aa1deb",
   "metadata": {},
   "outputs": [
    {
     "name": "stdout",
     "output_type": "stream",
     "text": [
      "<class 'pandas.core.frame.DataFrame'>\n",
      "RangeIndex: 439 entries, 0 to 438\n",
      "Data columns (total 5 columns):\n",
      " #   Column       Non-Null Count  Dtype  \n",
      "---  ------       --------------  -----  \n",
      " 0   rating       439 non-null    int64  \n",
      " 1   draft_round  439 non-null    int64  \n",
      " 2   age          439 non-null    int64  \n",
      " 3   experience   439 non-null    int64  \n",
      " 4   bmi          439 non-null    float64\n",
      "dtypes: float64(1), int64(4)\n",
      "memory usage: 17.3 KB\n",
      "<class 'pandas.core.series.Series'>\n",
      "RangeIndex: 439 entries, 0 to 438\n",
      "Series name: salary\n",
      "Non-Null Count  Dtype  \n",
      "--------------  -----  \n",
      "439 non-null    float64\n",
      "dtypes: float64(1)\n",
      "memory usage: 3.6 KB\n"
     ]
    },
    {
     "data": {
      "text/plain": [
       "(None, None)"
      ]
     },
     "execution_count": 25,
     "metadata": {},
     "output_type": "execute_result"
    }
   ],
   "source": [
    "X.info(), y.info()"
   ]
  },
  {
   "cell_type": "code",
   "execution_count": 29,
   "id": "00f15dc1-31e5-4ad9-a208-902ae4412d6a",
   "metadata": {},
   "outputs": [],
   "source": [
    "from sklearn.model_selection import train_test_split\n",
    "\n",
    "X_train, X_test, y_train, y_test = train_test_split(X, y, test_size=0.3, random_state=100)"
   ]
  },
  {
   "cell_type": "code",
   "execution_count": 30,
   "id": "cc546a9d-2b25-41ac-a78d-a40799f31f19",
   "metadata": {},
   "outputs": [
    {
     "data": {
      "text/html": [
       "<style>#sk-container-id-2 {color: black;}#sk-container-id-2 pre{padding: 0;}#sk-container-id-2 div.sk-toggleable {background-color: white;}#sk-container-id-2 label.sk-toggleable__label {cursor: pointer;display: block;width: 100%;margin-bottom: 0;padding: 0.3em;box-sizing: border-box;text-align: center;}#sk-container-id-2 label.sk-toggleable__label-arrow:before {content: \"▸\";float: left;margin-right: 0.25em;color: #696969;}#sk-container-id-2 label.sk-toggleable__label-arrow:hover:before {color: black;}#sk-container-id-2 div.sk-estimator:hover label.sk-toggleable__label-arrow:before {color: black;}#sk-container-id-2 div.sk-toggleable__content {max-height: 0;max-width: 0;overflow: hidden;text-align: left;background-color: #f0f8ff;}#sk-container-id-2 div.sk-toggleable__content pre {margin: 0.2em;color: black;border-radius: 0.25em;background-color: #f0f8ff;}#sk-container-id-2 input.sk-toggleable__control:checked~div.sk-toggleable__content {max-height: 200px;max-width: 100%;overflow: auto;}#sk-container-id-2 input.sk-toggleable__control:checked~label.sk-toggleable__label-arrow:before {content: \"▾\";}#sk-container-id-2 div.sk-estimator input.sk-toggleable__control:checked~label.sk-toggleable__label {background-color: #d4ebff;}#sk-container-id-2 div.sk-label input.sk-toggleable__control:checked~label.sk-toggleable__label {background-color: #d4ebff;}#sk-container-id-2 input.sk-hidden--visually {border: 0;clip: rect(1px 1px 1px 1px);clip: rect(1px, 1px, 1px, 1px);height: 1px;margin: -1px;overflow: hidden;padding: 0;position: absolute;width: 1px;}#sk-container-id-2 div.sk-estimator {font-family: monospace;background-color: #f0f8ff;border: 1px dotted black;border-radius: 0.25em;box-sizing: border-box;margin-bottom: 0.5em;}#sk-container-id-2 div.sk-estimator:hover {background-color: #d4ebff;}#sk-container-id-2 div.sk-parallel-item::after {content: \"\";width: 100%;border-bottom: 1px solid gray;flex-grow: 1;}#sk-container-id-2 div.sk-label:hover label.sk-toggleable__label {background-color: #d4ebff;}#sk-container-id-2 div.sk-serial::before {content: \"\";position: absolute;border-left: 1px solid gray;box-sizing: border-box;top: 0;bottom: 0;left: 50%;z-index: 0;}#sk-container-id-2 div.sk-serial {display: flex;flex-direction: column;align-items: center;background-color: white;padding-right: 0.2em;padding-left: 0.2em;position: relative;}#sk-container-id-2 div.sk-item {position: relative;z-index: 1;}#sk-container-id-2 div.sk-parallel {display: flex;align-items: stretch;justify-content: center;background-color: white;position: relative;}#sk-container-id-2 div.sk-item::before, #sk-container-id-2 div.sk-parallel-item::before {content: \"\";position: absolute;border-left: 1px solid gray;box-sizing: border-box;top: 0;bottom: 0;left: 50%;z-index: -1;}#sk-container-id-2 div.sk-parallel-item {display: flex;flex-direction: column;z-index: 1;position: relative;background-color: white;}#sk-container-id-2 div.sk-parallel-item:first-child::after {align-self: flex-end;width: 50%;}#sk-container-id-2 div.sk-parallel-item:last-child::after {align-self: flex-start;width: 50%;}#sk-container-id-2 div.sk-parallel-item:only-child::after {width: 0;}#sk-container-id-2 div.sk-dashed-wrapped {border: 1px dashed gray;margin: 0 0.4em 0.5em 0.4em;box-sizing: border-box;padding-bottom: 0.4em;background-color: white;}#sk-container-id-2 div.sk-label label {font-family: monospace;font-weight: bold;display: inline-block;line-height: 1.2em;}#sk-container-id-2 div.sk-label-container {text-align: center;}#sk-container-id-2 div.sk-container {/* jupyter's `normalize.less` sets `[hidden] { display: none; }` but bootstrap.min.css set `[hidden] { display: none !important; }` so we also need the `!important` here to be able to override the default hidden behavior on the sphinx rendered scikit-learn.org. See: https://github.com/scikit-learn/scikit-learn/issues/21755 */display: inline-block !important;position: relative;}#sk-container-id-2 div.sk-text-repr-fallback {display: none;}</style><div id=\"sk-container-id-2\" class=\"sk-top-container\"><div class=\"sk-text-repr-fallback\"><pre>LinearRegression()</pre><b>In a Jupyter environment, please rerun this cell to show the HTML representation or trust the notebook. <br />On GitHub, the HTML representation is unable to render, please try loading this page with nbviewer.org.</b></div><div class=\"sk-container\" hidden><div class=\"sk-item\"><div class=\"sk-estimator sk-toggleable\"><input class=\"sk-toggleable__control sk-hidden--visually\" id=\"sk-estimator-id-2\" type=\"checkbox\" checked><label for=\"sk-estimator-id-2\" class=\"sk-toggleable__label sk-toggleable__label-arrow\">LinearRegression</label><div class=\"sk-toggleable__content\"><pre>LinearRegression()</pre></div></div></div></div></div>"
      ],
      "text/plain": [
       "LinearRegression()"
      ]
     },
     "execution_count": 30,
     "metadata": {},
     "output_type": "execute_result"
    }
   ],
   "source": [
    "from sklearn.linear_model import LinearRegression\n",
    "\n",
    "model = LinearRegression()\n",
    "model.fit(X_train, y_train)"
   ]
  },
  {
   "cell_type": "code",
   "execution_count": 38,
   "id": "c2cfae2a-f45f-4252-80f0-90ddefdea99e",
   "metadata": {},
   "outputs": [
    {
     "name": "stdout",
     "output_type": "stream",
     "text": [
      "1187791.26417894, 246170.17905994, 430020.22136812, 182762.6127964 , -87689.58520294\n"
     ]
    }
   ],
   "source": [
    "import numpy as np\n",
    "\n",
    "print(np.array2string(model.coef_, separator=',', max_line_width=120)[1:-1])"
   ]
  },
  {
   "cell_type": "markdown",
   "id": "ac713c7e-59e8-401c-a5bd-2a8bb2a2dbfc",
   "metadata": {},
   "source": [
    "## Stage 4: Check multicolinearity"
   ]
  },
  {
   "cell_type": "code",
   "execution_count": 92,
   "id": "be88d96b-7204-400c-8717-a87450161acd",
   "metadata": {},
   "outputs": [],
   "source": [
    "import pandas as pd\n",
    "import matplotlib.pyplot as plt\n",
    "\n",
    "data = pd.read_csv('./Data/data.csv')\n",
    "corr = data.corr()"
   ]
  },
  {
   "cell_type": "code",
   "execution_count": 93,
   "id": "bf57494f-71ac-41fc-8d0d-04d7611bff7c",
   "metadata": {},
   "outputs": [
    {
     "name": "stdout",
     "output_type": "stream",
     "text": [
      "rating\n",
      "age\n",
      "experience\n"
     ]
    }
   ],
   "source": [
    "strong_corr_vars = []\n",
    "for j in range(0, corr.values.shape[1]):\n",
    "    if j != 1 and corr.values[1,j] > 0.2:\n",
    "        print(corr.columns[j])        \n",
    "        strong_corr_vars.append(corr.columns[j])"
   ]
  },
  {
   "cell_type": "code",
   "execution_count": 70,
   "id": "a785f0f1-d0d0-499e-9b95-fdef5d5822db",
   "metadata": {},
   "outputs": [
    {
     "data": {
      "image/png": "[encoded data removed]",
      "text/plain": [
       "<Figure size 640x480 with 2 Axes>"
      ]
     },
     "metadata": {},
     "output_type": "display_data"
    }
   ],
   "source": [
    "plt.imshow(corr);\n",
    "plt.xticks(range(len(corr.columns)), corr.columns, rotation=90);\n",
    "plt.yticks(range(len(corr.columns)), corr.columns,);\n",
    "plt.colorbar();"
   ]
  },
  {
   "cell_type": "code",
   "execution_count": 71,
   "id": "e2ca1ef4-470e-4217-8bdc-774cd73255e8",
   "metadata": {},
   "outputs": [],
   "source": [
    "X = data.drop('salary', axis=1)\n",
    "y = data.salary"
   ]
  },
  {
   "cell_type": "code",
   "execution_count": 72,
   "id": "f5fa029d-7185-419f-bd54-5f6d79f927e5",
   "metadata": {},
   "outputs": [],
   "source": [
    "from sklearn.model_selection import train_test_split\n",
    "\n",
    "X_train, X_test, y_train, y_test = train_test_split(X, y, test_size=0.3, random_state=100)"
   ]
  },
  {
   "cell_type": "code",
   "execution_count": 90,
   "id": "e83a34e6-1747-4b16-82bc-b7a109f4aea9",
   "metadata": {},
   "outputs": [
    {
     "name": "stdout",
     "output_type": "stream",
     "text": [
      "creating a model w/o: rating\n",
      "2.707355066874804\n",
      "creating a model w/o: age\n",
      "1.3974694118065496\n",
      "creating a model w/o: experience\n",
      "1.4696432658672405\n"
     ]
    }
   ],
   "source": [
    "from sklearn.linear_model import LinearRegression\n",
    "from sklearn.metrics import mean_absolute_percentage_error as mape\n",
    "\n",
    "mape_scores = []\n",
    "\n",
    "for v in strong_corr_vars:\n",
    "    print('creating a model w/o:', v)\n",
    "    X_tr, X_ts = X_train.drop(v, axis=1), X_test.drop(v, axis=1)\n",
    "    \n",
    "    model = LinearRegression()\n",
    "    model.fit(X_tr, y_train)\n",
    "    y_pred = model.predict(X_ts)\n",
    "    mape_scores.append(mape(y_test, y_pred))\n",
    "    print(mape_scores[-1])"
   ]
  },
  {
   "cell_type": "code",
   "execution_count": 91,
   "id": "3bf14ad0-c36e-4cd7-aa25-3e92325af5e3",
   "metadata": {},
   "outputs": [
    {
     "name": "stdout",
     "output_type": "stream",
     "text": [
      "creating a model w/o: rating age\n",
      "2.6766299565616904\n",
      "creating a model w/o: rating experience\n",
      "2.9659652418844282\n",
      "creating a model w/o: age experience\n",
      "1.227887960689966\n"
     ]
    }
   ],
   "source": [
    "for i in range(len(strong_corr_vars)):\n",
    "    for j in range(i+1, len(strong_corr_vars)):\n",
    "        print('creating a model w/o:', strong_corr_vars[i], strong_corr_vars[j])\n",
    "        X_tr = X_train.drop([strong_corr_vars[i], strong_corr_vars[j]], axis=1)\n",
    "        X_ts = X_test.drop([strong_corr_vars[i], strong_corr_vars[j]], axis=1)\n",
    "        \n",
    "        model = LinearRegression()\n",
    "        model.fit(X_tr, y_train)\n",
    "        y_pred = model.predict(X_ts)\n",
    "        mape_scores.append(mape(y_test, y_pred))\n",
    "        print(mape_scores[-1])        "
   ]
  },
  {
   "cell_type": "code",
   "execution_count": 89,
   "id": "dcc5e3ed-9c4a-4007-8479-f58041a540d0",
   "metadata": {},
   "outputs": [
    {
     "data": {
      "text/plain": [
       "1.22789"
      ]
     },
     "execution_count": 89,
     "metadata": {},
     "output_type": "execute_result"
    }
   ],
   "source": [
    "round(min(mape_scores), 5)"
   ]
  },
  {
   "cell_type": "markdown",
   "id": "f53c63ff-6b3e-46b4-8a98-1e5200e02779",
   "metadata": {},
   "source": [
    "## Stage 5: Dealing with Negative Predictions"
   ]
  },
  {
   "cell_type": "code",
   "execution_count": 121,
   "id": "d6fb889c-2296-4a1d-84a4-d064e7b8588c",
   "metadata": {},
   "outputs": [],
   "source": [
    "data = pd.read_csv('./Data/data.csv')\n",
    "X = data.drop(['salary', 'age', 'experience'], axis=1)\n",
    "y = data.salary\n",
    "X_train, X_test, y_train, y_test = train_test_split(X, y, test_size=0.3, random_state=100)"
   ]
  },
  {
   "cell_type": "code",
   "execution_count": 123,
   "id": "c0322fa3-237a-426f-bc36-f38f5f94976b",
   "metadata": {},
   "outputs": [],
   "source": [
    "model = LinearRegression()\n",
    "model.fit(X_train, y_train)\n",
    "y_pred = model.predict(X_test)"
   ]
  },
  {
   "cell_type": "code",
   "execution_count": 131,
   "id": "38d2005a-6216-4a8a-8bb0-32e8eab31fbe",
   "metadata": {},
   "outputs": [],
   "source": [
    "# Replacing negative predictions with zero\n",
    "y_ngzero = y_pred.copy()\n",
    "y_ngzero[y_ngzero < 0] = 0\n",
    "ngzero_score = mape(y_test, y_ngzero)"
   ]
  },
  {
   "cell_type": "code",
   "execution_count": 132,
   "id": "b3c95d23-2018-4ee9-bee6-d7ff41f60c62",
   "metadata": {},
   "outputs": [],
   "source": [
    "# Replacing negative predictions with y_train.median\n",
    "y_ngmedian = y_pred.copy()\n",
    "y_ngmedian[y_ngmedian < 0] = y_train.median()\n",
    "ngmed_score = mape(y_test, y_ngmedian)"
   ]
  },
  {
   "cell_type": "code",
   "execution_count": 130,
   "id": "ddb3310b-b408-4c78-a8e6-2fd885d1fbbb",
   "metadata": {},
   "outputs": [
    {
     "name": "stdout",
     "output_type": "stream",
     "text": [
      "0.94701\n"
     ]
    }
   ],
   "source": [
    "if ngzero_score < ngmed_score:\n",
    "    print(round(ngzero_score, 5))\n",
    "else:\n",
    "    print(round(ngmed_score, 5))"
   ]
  },
  {
   "cell_type": "code",
   "execution_count": 139,
   "id": "34b5423a-c780-4e0b-a411-fe17e2e0678b",
   "metadata": {},
   "outputs": [
    {
     "name": "stdout",
     "output_type": "stream",
     "text": [
      "No negative replacement: 1.22789\n",
      "Replace with zero: 0.94701\n",
      "Replace with y_train's median: 1.96691\n"
     ]
    }
   ],
   "source": [
    "print(\"No negative replacement:\", round(mape(y_test, y_pred), 5))\n",
    "print(\"Replace with zero:\", round(ngzero_score, 5))\n",
    "print(\"Replace with y_train's median:\", round(ngmed_score, 5))"
   ]
  }
 ],
 "metadata": {
  "kernelspec": {
   "display_name": "Python 3 (ipykernel)",
   "language": "python",
   "name": "python3"
  },
  "language_info": {
   "codemirror_mode": {
    "name": "ipython",
    "version": 3
   },
   "file_extension": ".py",
   "mimetype": "text/x-python",
   "name": "python",
   "nbconvert_exporter": "python",
   "pygments_lexer": "ipython3",
   "version": "3.11.4"
  }
 },
 "nbformat": 4,
 "nbformat_minor": 5
}
